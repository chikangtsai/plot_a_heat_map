{
 "cells": [
  {
   "cell_type": "code",
   "execution_count": 1,
   "metadata": {},
   "outputs": [
    {
     "name": "stdout",
     "output_type": "stream",
     "text": [
      "\f",
      "\n"
     ]
    }
   ],
   "source": [
    "%clear"
   ]
  },
  {
   "cell_type": "code",
   "execution_count": 1,
   "metadata": {},
   "outputs": [
    {
     "name": "stdout",
     "output_type": "stream",
     "text": [
      "be sure the file is in the same folder\n",
      "enter the filname：50-50oldcolor\n"
     ]
    }
   ],
   "source": [
    "print(\"be sure the file is in the same folder\")\n",
    "filename = input(\"enter the filname：\")"
   ]
  },
  {
   "cell_type": "code",
   "execution_count": 2,
   "metadata": {
    "collapsed": true
   },
   "outputs": [],
   "source": [
    "import numpy as np\n",
    "import pandas as pd\n",
    "import matplotlib.pyplot as plt\n",
    "from matplotlib import cm, colors\n",
    "import seaborn as sns\n",
    "import os, errno\n",
    "import time"
   ]
  },
  {
   "cell_type": "code",
   "execution_count": 3,
   "metadata": {
    "collapsed": true
   },
   "outputs": [],
   "source": [
    "data = pd.read_csv(\"%s.csv\" %filename)\n",
    "# import os, errno\n",
    "# try:\n",
    "#     os.makedirs(\"%s\" %filename)\n",
    "# except OSError as e:\n",
    "#     if e.errno != errno.EEXIST:\n",
    "#         raise\n",
    "# os.chdir('%s' %filename)"
   ]
  },
  {
   "cell_type": "code",
   "execution_count": 4,
   "metadata": {
    "collapsed": true
   },
   "outputs": [],
   "source": [
    "r1 = int(max(data[:]['machine_up']))+1\n",
    "r2 = int(max(data[:]['machine_down']))+1\n",
    "r3 = int(max(data[:]['Machine_flx']))+1"
   ]
  },
  {
   "cell_type": "code",
   "execution_count": 5,
   "metadata": {
    "scrolled": true
   },
   "outputs": [
    {
     "name": "stdout",
     "output_type": "stream",
     "text": [
      "plotting\n",
      "[############################################################] plotting 27 th picture\r"
     ]
    }
   ],
   "source": [
    "print(\"plotting\")\n",
    "index = r1*r2*r3\n",
    "idx = 0\n",
    "for a in range(r1):\n",
    "    for b in range(r2):\n",
    "        for c in range(r3):\n",
    "            penn = data[(data.machine_up == a) & (data.machine_down == b) & (data.Machine_flx == c)][['upQ','downQ','action']]\n",
    "            x = list(penn['upQ'])\n",
    "            y = list(penn['downQ'])\n",
    "            z = list(penn['action'])\n",
    "            df = pd.DataFrame({'upQ':x,'downQ': y,'action':z})\n",
    "            pt = df.pivot_table(index='downQ', columns='upQ', values='action', aggfunc=np.sum)\n",
    "            f, ax = plt.subplots(figsize = (10, 10))\n",
    "\n",
    "            cmap = sns.cubehelix_palette(start = 1, rot = 3, gamma=0.8, as_cmap = True)\n",
    "            sns.heatmap(pt, cmap = 'Blues', linewidths = 0.05, ax = ax,square=True,cbar=True)\n",
    "\n",
    "            ax.set_title('decision')\n",
    "            ax.set_xlabel('upQ')\n",
    "            ax.set_ylabel('downQ')\n",
    "            ax.invert_yaxis()\n",
    "\n",
    "            f.savefig('%s %d %d %d.jpg' %(filename,a,b,c), bbox_inches='tight')\n",
    "            ax.set_xticklabels(ax.get_xticklabels(), rotation=-90)\n",
    "            \n",
    "            idx += 1\n",
    "            hash = ((60*idx)//index)\n",
    "            print(\"[{}{}] plotting {} th picture\".format('#' * hash, ' ' * (60-hash), idx), end=\"\\r\")\n",
    "            time.sleep(0.00001)\n",
    "            plt.close()\n"
   ]
  },
  {
   "cell_type": "code",
   "execution_count": null,
   "metadata": {
    "collapsed": true
   },
   "outputs": [],
   "source": []
  }
 ],
 "metadata": {
  "kernelspec": {
   "display_name": "Python 3",
   "language": "python",
   "name": "python3"
  },
  "language_info": {
   "codemirror_mode": {
    "name": "ipython",
    "version": 3
   },
   "file_extension": ".py",
   "mimetype": "text/x-python",
   "name": "python",
   "nbconvert_exporter": "python",
   "pygments_lexer": "ipython3",
   "version": "3.5.4"
  }
 },
 "nbformat": 4,
 "nbformat_minor": 2
}
