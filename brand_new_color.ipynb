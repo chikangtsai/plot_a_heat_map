{
 "cells": [
  {
   "cell_type": "code",
   "execution_count": 18,
   "metadata": {},
   "outputs": [],
   "source": [
    "#if 檔案內有多個setting\n",
    "import os\n",
    "import numpy,os\n",
    "import pandas\n",
    "import seaborn as sns\n",
    "import matplotlib.pyplot as plt\n",
    "import numpy as np\n",
    "import pandas as pd\n",
    "from scipy import stats\n",
    "\n",
    "def plotpolicy (name1,cols):\n",
    "    filename = \"%s\"%name1\n",
    "\n",
    "    os.chdir(\"C:\\\\Users\\\\wu112\\\\\")\n",
    "    try:\n",
    "        os.makedirs(\"%s\" %filename)#建檔案夾，可略\n",
    "    except:\n",
    "        pass\n",
    "    plt.rcParams.update({'figure.max_open_warning': 0})\n",
    "    sns.set(style=\"white\",color_codes=True)\n",
    "    col = cols\n",
    "#以下為讀檔\n",
    "    data = pd.read_csv(\"%s.csv\"%name1, header = 0 ,index_col=False)#names=['ratio','lambda','mu1','rl1','mtbf1','mu2','rl2','mtbf2','mu3','rl3','mtbf3','c2','mam1','mam2','mam3','m1','m2','m3','q1','q2','action','value'])\n",
    "    label = pd.read_csv(\"setting.csv\", header = 0,index_col=False) #names=['lambda','mu1','mtbf1','rl1','mu2','mtbf2','rl2','mu3','mtbf3','rl3','c2','mam1','mam2','mam3','o'])\n",
    "    df = data[ data['lambda'][:] == round(label.iloc[col][0],4) ]\n",
    "    \n",
    "    \n",
    "    os.chdir(\"C:\\\\Users\\\\wu112\\\\%s\\\\\" %filename) \n",
    "#    policydf= df.iloc[:,[15,16,17,18,19,20,21]] #沒有prediction\n",
    "    policydf= df.iloc[:,[14,15,16,17,18,19,20,21,22]] #有prediction\n",
    "    \n",
    "    \n",
    "    num1 = max(df.mam1)\n",
    "    num2 = max(df.mam2)\n",
    "    num3 = max(df.mam3)\n",
    "    print(num1,num2,num3)\n",
    "    for i in range(int(num1)+1):\n",
    "        for j in range(int(num2)+1):\n",
    "            for k in range(int(num3)+1):\n",
    "                policy = policydf[(policydf['m1'] == i) & (policydf['m2'] == j) & (policydf['m3'] == k) ]\n",
    "                #客製化色盤\n",
    "                palette = sns.color_palette([\"#4f5051\",\"#c2c3c4\",\"#8e8f91\"])\n",
    "                #畫圖\n",
    "                sns.FacetGrid(policy,hue=\"draw\",size=4, xlim=(0,50),ylim=(0,50),palette=palette) .map(plt.scatter,\"q1\",\"q2\",edgecolor=\"gray\",marker=',',s=10)\n",
    "                #圖的各類標示\n",
    "                a=str(i )+str(j )+str(k )               \n",
    "                plt.title(a)\n",
    "                plt.legend(['up','down'],bbox_to_anchor=(0.1,-0.01),loc='best')\n",
    "                plt.savefig(a,bbox_inches='tight')\n",
    "                plt.clf()\n",
    "                plt.cla()\n",
    "                plt.close()\n",
    "    print(\"finish\")"
   ]
  },
  {
   "cell_type": "code",
   "execution_count": 19,
   "metadata": {},
   "outputs": [
    {
     "name": "stdout",
     "output_type": "stream",
     "text": [
      "14.405999999999999\n",
      "14.406\n",
      "##################\n",
      "   lambda  mu1   rl1  mtbf1  mu2   rl2  mtbf2  mu3   rl3  mtbf3  ...   mam3  \\\n",
      "0  7.2874    4  0.85     35    4  0.89     31    3  0.87     23  ...      2   \n",
      "1  7.2874    4  0.85     35    4  0.89     31    3  0.87     23  ...      2   \n",
      "2  7.2874    4  0.85     35    4  0.89     31    3  0.87     23  ...      2   \n",
      "3  7.2874    4  0.85     35    4  0.89     31    3  0.87     23  ...      2   \n",
      "4  7.2874    4  0.85     35    4  0.89     31    3  0.87     23  ...      2   \n",
      "\n",
      "   m1  m2  m3  q1  q2  action     value  prediction  draw  \n",
      "0   0   0   0   0   0       0  3428.444           0     0  \n",
      "1   0   0   1   0   0       0  3259.246           0     0  \n",
      "2   0   0   2   0   0       0  3134.831           0     0  \n",
      "3   0   1   0   0   0       0  3252.167           0     0  \n",
      "4   0   1   1   0   0       0  3098.598           0     0  \n",
      "\n",
      "[5 rows x 23 columns]\n",
      "@@@@@@@@@@@@@@@@@@\n",
      "    lambda  mu1  mtbf1   rl1  mu2  mtbf2   rl2  mu3  mtbf3   rl3    c2  mam1  \\\n",
      "0  15.6948    4     35  0.87    4     33  0.87    3     25  0.87  0.82     4   \n",
      "1  13.4676    4     35  0.88    2     30  0.85    3     39  0.87  0.96     4   \n",
      "2  14.4060    4     23  0.88    1     26  0.85    3     30  0.86  0.92     5   \n",
      "3   6.1588    4     26  0.88    1     37  0.86    1     26  0.87  0.78     4   \n",
      "4   6.0200    2     23  0.88    1     32  0.86    1     29  0.89  1.29     5   \n",
      "\n",
      "   mam2  mam3     o  \n",
      "0     4     4  0.82  \n",
      "1     4     4  0.86  \n",
      "2     5     5  0.84  \n",
      "3     4     4  0.89  \n",
      "4     4     4  0.86  \n",
      "5 5 5\n",
      "finish\n"
     ]
    },
    {
     "ename": "OSError",
     "evalue": "[WinError 123] 檔案名稱、目錄名稱或磁碟區標籤語法錯誤。: \"'C:\\\\Users\\\\wu112\"",
     "output_type": "error",
     "traceback": [
      "\u001b[1;31m---------------------------------------------------------------------------\u001b[0m",
      "\u001b[1;31mOSError\u001b[0m                                   Traceback (most recent call last)",
      "\u001b[1;32m<ipython-input-19-9c33a83f5e8d>\u001b[0m in \u001b[0;36m<module>\u001b[1;34m()\u001b[0m\n\u001b[0;32m      1\u001b[0m \u001b[1;31m#Call the method and plot the graphs\u001b[0m\u001b[1;33m\u001b[0m\u001b[1;33m\u001b[0m\u001b[0m\n\u001b[0;32m      2\u001b[0m \u001b[0mplotpolicy\u001b[0m\u001b[1;33m(\u001b[0m\u001b[1;34m\"output-exp7\"\u001b[0m\u001b[1;33m,\u001b[0m\u001b[1;36m2\u001b[0m\u001b[1;33m)\u001b[0m\u001b[1;33m\u001b[0m\u001b[0m\n\u001b[1;32m----> 3\u001b[1;33m \u001b[0mos\u001b[0m\u001b[1;33m.\u001b[0m\u001b[0mchdir\u001b[0m\u001b[1;33m(\u001b[0m\u001b[1;34m\"'C:\\\\Users\\\\wu112\"\u001b[0m\u001b[1;33m)\u001b[0m\u001b[1;33m\u001b[0m\u001b[0m\n\u001b[0m",
      "\u001b[1;31mOSError\u001b[0m: [WinError 123] 檔案名稱、目錄名稱或磁碟區標籤語法錯誤。: \"'C:\\\\Users\\\\wu112\""
     ]
    }
   ],
   "source": [
    "#Call the method and plot the graphs\n",
    "plotpolicy(\"output-exp7\",2)\n",
    "os.chdir(\"'C:\\\\Users\\\\wu112\")"
   ]
  },
  {
   "cell_type": "code",
   "execution_count": null,
   "metadata": {},
   "outputs": [],
   "source": []
  }
 ],
 "metadata": {
  "kernelspec": {
   "display_name": "Python 3",
   "language": "python",
   "name": "python3"
  },
  "language_info": {
   "codemirror_mode": {
    "name": "ipython",
    "version": 3
   },
   "file_extension": ".py",
   "mimetype": "text/x-python",
   "name": "python",
   "nbconvert_exporter": "python",
   "pygments_lexer": "ipython3",
   "version": "3.7.3"
  }
 },
 "nbformat": 4,
 "nbformat_minor": 2
}
